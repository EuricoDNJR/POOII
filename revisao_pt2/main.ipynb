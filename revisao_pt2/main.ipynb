{
 "cells": [
  {
   "cell_type": "markdown",
   "metadata": {},
   "source": [
    "ATIVIDADE 1"
   ]
  },
  {
   "cell_type": "code",
   "execution_count": 13,
   "metadata": {},
   "outputs": [],
   "source": [
    "class Conta:\n",
    "    def __init__(self, numero, titular, saldo, limite=1000.0):\n",
    "        self.numero = numero\n",
    "        self.titular = titular\n",
    "        self.saldo = saldo\n",
    "        self.limite = limite\n",
    "    \n",
    "    def deposita(self, valor):\n",
    "        self.saldo += valor\n",
    "    \n",
    "    def saca(self, valor):\n",
    "        self.saldo -= valor\n",
    "    \n",
    "    def extrato(self):\n",
    "        print(\"numero: {} \\nsaldo: {}\".format(self.numero, self.saldo))\n",
    "            "
   ]
  },
  {
   "cell_type": "markdown",
   "metadata": {},
   "source": [
    "ATIVIDADE 2"
   ]
  },
  {
   "cell_type": "code",
   "execution_count": 14,
   "metadata": {},
   "outputs": [],
   "source": [
    "class Conta:\n",
    "    def __init__(self, numero, titular, saldo, limite=1000.0):\n",
    "        self.numero = numero\n",
    "        self.titular = titular\n",
    "        self.saldo = saldo\n",
    "        self.limite = limite\n",
    "    \n",
    "    def deposita(self, valor):\n",
    "        self.saldo += valor\n",
    "    \n",
    "    def saca(self, valor):\n",
    "        if self.saldo < valor:\n",
    "            return False\n",
    "        else:\n",
    "            self.saldo -= valor\n",
    "            return True\n",
    "    \n",
    "    def extrato(self):\n",
    "        print(\"numero: {} \\nsaldo: {}\".format(self.numero, self.saldo))\n",
    "    \n",
    "    def transfere(self, destino, valor):\n",
    "        retirou = self.saca(valor)\n",
    "        if not retirou:\n",
    "            return False\n",
    "        else:\n",
    "            destino.deposita(valor)\n",
    "            return True"
   ]
  },
  {
   "cell_type": "code",
   "execution_count": 15,
   "metadata": {},
   "outputs": [
    {
     "name": "stdout",
     "output_type": "stream",
     "text": [
      "Não transferiu\n",
      "Transferiu\n",
      "110.0\n",
      "10.0\n"
     ]
    }
   ],
   "source": [
    "c1 = Conta('123-4', 'Joao', 120.0)\n",
    "c2 = Conta('567-8', 'Jose', 0)\n",
    "\n",
    "transferiu = c2.transfere(c1, 10.0)\n",
    "if not transferiu:\n",
    "    print(\"Não transferiu\")\n",
    "else:\n",
    "    print(\"Transferiu\")\n",
    "\n",
    "transferiu = c1.transfere(c2, 10.0)\n",
    "if not transferiu:\n",
    "    print(\"Não transferiu\")\n",
    "else:\n",
    "    print(\"Transferiu\")\n",
    "\n",
    "print(c1.saldo)\n",
    "print(c2.saldo)"
   ]
  },
  {
   "cell_type": "markdown",
   "metadata": {},
   "source": [
    "ATIVIDADE 3"
   ]
  },
  {
   "cell_type": "code",
   "execution_count": 16,
   "metadata": {},
   "outputs": [],
   "source": [
    "class Cliente:\n",
    "    def __init__(self, nome, sobrenome, cpf):\n",
    "        self.nome = nome\n",
    "        self.sobrenome = sobrenome\n",
    "        self.cpf = cpf"
   ]
  },
  {
   "cell_type": "code",
   "execution_count": 17,
   "metadata": {},
   "outputs": [],
   "source": [
    "class Conta:\n",
    "    def __init__(self, numero, cliente, saldo, limite=1000.0):\n",
    "        self.numero = numero\n",
    "        self.titular = cliente\n",
    "        self.saldo = saldo\n",
    "        self.limite = limite\n",
    "    \n",
    "    def deposita(self, valor):\n",
    "        self.saldo += valor\n",
    "    \n",
    "    def saca(self, valor):\n",
    "        if self.saldo < valor:\n",
    "            return False\n",
    "        else:\n",
    "            self.saldo -= valor\n",
    "            return True\n",
    "    \n",
    "    def extrato(self):\n",
    "        print(\"numero: {} \\nsaldo: {}\".format(self.numero, self.saldo))\n",
    "    \n",
    "    def transfere(self, destino, valor):\n",
    "        retirou = self.saca(valor)\n",
    "        if not retirou:\n",
    "            return False\n",
    "        else:\n",
    "            destino.deposita(valor)\n",
    "            return True"
   ]
  },
  {
   "cell_type": "markdown",
   "metadata": {},
   "source": [
    "ATIVIDADE 4"
   ]
  },
  {
   "cell_type": "code",
   "execution_count": 21,
   "metadata": {},
   "outputs": [],
   "source": [
    "import datetime\n",
    "\n",
    "class Historico:\n",
    "    def __init__(self):\n",
    "        self.data_abertura = datetime.datetime.today()\n",
    "        self.transacoes = []\n",
    "\n",
    "    def imprime(self):\n",
    "        print(\"data abertura: {}\".format(self.data_abertura))\n",
    "        print(\"transações: \")\n",
    "        for t in self.transacoes:\n",
    "            print(\"-\", t)"
   ]
  },
  {
   "cell_type": "code",
   "execution_count": 22,
   "metadata": {},
   "outputs": [],
   "source": [
    "class Conta:\n",
    "    def __init__(self, numero, cliente, saldo, limite=1000.0):\n",
    "        self.numero = numero\n",
    "        self.titular = cliente\n",
    "        self.saldo = saldo\n",
    "        self.limite = limite\n",
    "        self.historico = Historico()\n",
    "\n",
    "    def deposita(self, valor):\n",
    "        self.saldo += valor\n",
    "        self.historico.transacoes.append(\"deposito de {}\".format(valor))\n",
    "\n",
    "    def saca(self, valor):\n",
    "        if self.saldo < valor:\n",
    "            return False\n",
    "        else:\n",
    "            self.saldo -= valor\n",
    "            self.historico.transacoes.append(\"saque de {}\".format(valor))\n",
    "            return True\n",
    "\n",
    "    def transfere_para(self, destino, valor):\n",
    "        retirou = self.saca(valor)\n",
    "        if not retirou:\n",
    "            return False\n",
    "        else:\n",
    "            destino.deposita(valor)\n",
    "            self.historico.transacoes.append(\"transferencia de {} para conta {}\".format(valor, destino.numero))\n",
    "            return True\n",
    "\n",
    "    def extrato(self):\n",
    "        print(\"numero: {} \\nsaldo: {}\".format(self.numero, self.saldo))\n",
    "        self.historico.transacoes.append(\"tirou extrato - saldo de {}\".format(self.saldo))\n",
    "\n",
    "\n",
    "class Cliente:\n",
    "    def __init__(self, nome, sobrenome, cpf):\n",
    "        self.nome = nome\n",
    "        self.sobrenome = sobrenome\n",
    "        self.cpf = cpf"
   ]
  },
  {
   "cell_type": "code",
   "execution_count": 23,
   "metadata": {},
   "outputs": [
    {
     "name": "stdout",
     "output_type": "stream",
     "text": [
      "numero: 123-4 \n",
      "saldo: 850.0\n",
      "data abertura: 2021-04-13 06:34:00.025535\n",
      "transações: \n",
      "- deposito de 100.0\n",
      "- saque de 50.0\n",
      "- saque de 200.0\n",
      "- transferencia de 200.0 para conta 123-5\n",
      "- tirou extrato - saldo de 850.0\n",
      "data abertura: 2021-04-13 06:34:00.025595\n",
      "transações: \n",
      "- deposito de 200.0\n"
     ]
    }
   ],
   "source": [
    "cliente1 = Cliente('Joao', 'Oliveira', '123456789-01')\n",
    "cliente2 = Cliente('Jose', 'Azevedo', '222222222-22')\n",
    "conta1 = Conta('123-4', cliente1, 1000.0)\n",
    "conta2 = Conta('123-5', cliente2, 1000.0)\n",
    "conta1.deposita(100.0)\n",
    "conta1.saca(50.0)\n",
    "conta1.transfere_para(conta2, 200.0)\n",
    "conta1.extrato()\n",
    "conta1.historico.imprime()\n",
    "conta2.historico.imprime()"
   ]
  }
 ],
 "metadata": {
  "kernelspec": {
   "display_name": "Python 3",
   "language": "python",
   "name": "python3"
  },
  "language_info": {
   "codemirror_mode": {
    "name": "ipython",
    "version": 3
   },
   "file_extension": ".py",
   "mimetype": "text/x-python",
   "name": "python",
   "nbconvert_exporter": "python",
   "pygments_lexer": "ipython3",
   "version": "3.8.5"
  }
 },
 "nbformat": 4,
 "nbformat_minor": 4
}
